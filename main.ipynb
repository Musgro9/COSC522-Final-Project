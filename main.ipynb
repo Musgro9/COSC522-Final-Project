{
 "cells": [
  {
   "cell_type": "markdown",
   "id": "70f11f0f-f524-44d8-8450-08f3e7a30ced",
   "metadata": {},
   "source": [
    "## Predicting the ESRB Video Games Rating\n",
    "\n",
    "**Group members: Group 16 – Dan Huber, Kyle Musgrove, Zifan-Fred Yu**"
   ]
  },
  {
   "cell_type": "markdown",
   "id": "6d42187e-8952-43f4-a0f2-cbb2f32ad878",
   "metadata": {},
   "source": [
    "This is the main document of the ESRB games rating project."
   ]
  },
  {
   "cell_type": "markdown",
   "id": "5c94216b-b793-416d-bd8a-ab1302a003cf",
   "metadata": {},
   "source": [
    "### Table of Contents:\n",
    "- background \n",
    "- objectives\n",
    "- implementation plans\n",
    "- useful resources and references"
   ]
  },
  {
   "cell_type": "markdown",
   "id": "9da566f2-bf2f-4047-9fe9-e7d4c650c487",
   "metadata": {},
   "source": [
    "### Background:"
   ]
  },
  {
   "cell_type": "markdown",
   "id": "68adca80-1209-426e-a98e-9eb217e4af7f",
   "metadata": {},
   "source": [
    "- Effects of Video Game Rating\n",
    "    - [Content and Ratings of Teen-Rated Video Games](https://jamanetwork.com/journals/jama/article-abstract/198217) (313)\n",
    "- Why ESRB rating"
   ]
  },
  {
   "cell_type": "markdown",
   "id": "91ec9add-eb5d-4f9e-af7e-083d7f5b2765",
   "metadata": {},
   "source": [
    "### Objectives:"
   ]
  },
  {
   "cell_type": "markdown",
   "id": "4e05babf-3726-4872-ba1c-d4bac4dda0f5",
   "metadata": {},
   "source": [
    "- Benchmark of all methods experimented\n",
    "- Study of feature importance: method-specific and across all methods: e.g. Shapley Value"
   ]
  },
  {
   "cell_type": "markdown",
   "id": "65906101-5203-49d5-8e6d-6d40c8d7f016",
   "metadata": {},
   "source": [
    "### Implementation Plans:"
   ]
  },
  {
   "cell_type": "markdown",
   "id": "d3d1e7ae-ac8a-4bc5-8298-1a047c8d6146",
   "metadata": {},
   "source": [
    "#### ML methods:\n",
    "- Multi-class logistic regression\n",
    "- Ensemble methods:\n",
    "    - Boost: XGB, LightGBM\n",
    "    - Random Forest\n",
    "- Other required ML methods: https://web.eecs.utk.edu/~hqi/cosc522/project/proj-final.htm"
   ]
  },
  {
   "cell_type": "markdown",
   "id": "f39ee2ac-27cb-4a52-b4a0-ae8f7013e070",
   "metadata": {},
   "source": [
    "#### Feature importance measurements:\n",
    "- [SHAP_Example](https://www.kaggle.com/code/duboisian/shap-example) (Kaggle)\n",
    "- [Random Forest Example](https://www.kaggle.com/code/fahmisajid/esrb-rating-prediction-random-forest)(Kaggle)"
   ]
  },
  {
   "cell_type": "markdown",
   "id": "5c33453a-1dc0-4fb6-b026-c5000652dff3",
   "metadata": {},
   "source": [
    "### Other Resources:"
   ]
  },
  {
   "cell_type": "code",
   "execution_count": null,
   "id": "d0ad0f52-3f93-4963-abcc-8488b3ac7398",
   "metadata": {},
   "outputs": [],
   "source": []
  },
  {
   "cell_type": "markdown",
   "id": "0c031fa2-479c-4110-9d0d-4ec90a181af0",
   "metadata": {},
   "source": [
    "### Complete List of References:"
   ]
  },
  {
   "cell_type": "code",
   "execution_count": null,
   "id": "c89c540d-f10e-4d43-b7b3-d80c7a64fb76",
   "metadata": {},
   "outputs": [],
   "source": []
  },
  {
   "cell_type": "code",
   "execution_count": null,
   "id": "f2b0ef47-28df-4ecf-a751-c22e9717259d",
   "metadata": {},
   "outputs": [],
   "source": []
  },
  {
   "cell_type": "code",
   "execution_count": null,
   "id": "b8b02c79-18b4-4d31-8042-fd2c5193c418",
   "metadata": {},
   "outputs": [],
   "source": []
  },
  {
   "cell_type": "code",
   "execution_count": null,
   "id": "71f68590-1b68-4132-b72d-e48d30d1172b",
   "metadata": {},
   "outputs": [],
   "source": []
  }
 ],
 "metadata": {
  "kernelspec": {
   "display_name": "Python 3 (ipykernel)",
   "language": "python",
   "name": "python3"
  },
  "language_info": {
   "codemirror_mode": {
    "name": "ipython",
    "version": 3
   },
   "file_extension": ".py",
   "mimetype": "text/x-python",
   "name": "python",
   "nbconvert_exporter": "python",
   "pygments_lexer": "ipython3",
   "version": "3.11.5"
  }
 },
 "nbformat": 4,
 "nbformat_minor": 5
}
